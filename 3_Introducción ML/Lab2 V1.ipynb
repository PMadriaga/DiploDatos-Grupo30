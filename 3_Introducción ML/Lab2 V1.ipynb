{
 "cells": [
  {
   "cell_type": "markdown",
   "metadata": {},
   "source": [
    "# Introducción al aprendizaje automático\n",
    "\n",
    "###  Laboratorio 2: Armado de un esquema de aprendizaje automático\n",
    "#### Grupo 30: Artola, Madriaga y Tula\n",
    "---\n",
    "\n",
    "### Índice de contenido:\n",
    "* [Librerías externas](#Libs)\n",
    "* [Carga del conjunto de datos](#datos)\n",
    "* [Carga de datos , división y evaluación](#division)\n",
    "* [Ejercicio 1:Descripción de los datos y tareas](#descripcion)\n",
    "* [Ejercicio 2: Predicción con modelos lineales](#prediccion)\n",
    "   * [Ejercicio 2.1:SGDClassifier con hiperparámetros por defecto](#classifier)\n",
    "   * [Ejercicio 2.2:Ajuste de hiperparámetros](#ajuste)\n",
    "* [Ejercicio 3: Arbol de decisión](#arbol)\n",
    "   * [Ejercicio 3.1:DecisionTreeClassifier con hiperparámetros por defecto](#arbol1)\n",
    "   * [Ejercicio 3.2: Ajuste de hiperparámetros](#arbol2)\n",
    "   \n"
   ]
  },
  {
   "cell_type": "markdown",
   "metadata": {},
   "source": [
    "### Librerías externas <a class=\"anchor\" id=\"Libs\"></a>"
   ]
  },
  {
   "cell_type": "code",
   "execution_count": 1,
   "metadata": {},
   "outputs": [],
   "source": [
    "import numpy as np\n",
    "import pandas as pd\n",
    "import seaborn as sns\n",
    "from sklearn.metrics import accuracy_score, precision_score, recall_score, f1_score, confusion_matrix\n",
    "from sklearn.metrics import classification_report\n",
    "from sklearn.model_selection import GridSearchCV\n",
    "from sklearn.tree import DecisionTreeClassifier\n",
    "\n",
    "# TODO: Agregar las librerías que hagan falta\n",
    "from sklearn.model_selection import train_test_split"
   ]
  },
  {
   "cell_type": "markdown",
   "metadata": {},
   "source": [
    "### Carga del conjunto de datos <a class=\"anchor\" id=\"datos\"></a>"
   ]
  },
  {
   "cell_type": "code",
   "execution_count": 2,
   "metadata": {},
   "outputs": [],
   "source": [
    "#dataset = pd.read_csv(\"./data/loan_data.csv\", comment=\"#\")\n",
    "dataset = pd.read_csv(r\"C:\\Users\\Usuario\\Desktop\\Roco\\DIPLOMATURA FAMAF\\loan_data.csv\",comment=\"#\")\n"
   ]
  },
  {
   "cell_type": "markdown",
   "metadata": {},
   "source": [
    "### Ejercicio 1: Descripción de los datos y tarea<a class=\"anchor\" id=\"descripcion\"></a>\n",
    "---\n",
    "\n",
    "**No hace falta escribir código para responder estas preguntas.**"
   ]
  },
  {
   "cell_type": "markdown",
   "metadata": {},
   "source": [
    "#### 1. ¿De qué se trata el conjunto de datos?"
   ]
  },
  {
   "cell_type": "markdown",
   "metadata": {},
   "source": [
    "\n",
    "* Descripción general de las columnas de nuestro dataset\n",
    "\n",
    "El departamento de créditos de un banco quiere automatizar la toma de decisiones para el proceso de aprobación de líneas de crédito con garantía hipotecaria. El modelo se basará en los datos recopilados de los solicitantes recientes a los que se les otorgó crédito a través del proceso actual de suscripción de préstamos. \n",
    "* Descripción Específica:\n",
    "Los datos del dataset contienen información sobre créditos hipotecarios que se les otorgó a ciertas personas, junto con su historial crediticio.\n"
   ]
  },
  {
   "cell_type": "markdown",
   "metadata": {},
   "source": [
    "#### 2. ¿Cuál es la variable objetivo que hay que predecir? ¿Qué significado tiene?"
   ]
  },
  {
   "cell_type": "markdown",
   "metadata": {},
   "source": [
    "* Consideramos que la  variable objetivo es  TARGET,que hace referencia a si el cliente pagó o no el préstamos en el periodo determinado.\n",
    "* Label: 1 = client defaulted on loan.Cliente incumplió con el préstamo.\n",
    "* Label 0 = loan repaid.Préstamo reembolsado."
   ]
  },
  {
   "cell_type": "markdown",
   "metadata": {},
   "source": [
    "#### 3. ¿Qué información (atributos) hay disponible para hacer la predicción?"
   ]
  },
  {
   "cell_type": "markdown",
   "metadata": {},
   "source": [
    "Atributos:\n",
    "\n",
    "* TARGET= \n",
    " * Label: 1 = client defaulted on loan.Cliente incumplió con el préstamo.\n",
    " * Label 0 = loan repaid.Préstamo reembolsado.\n",
    "* LOAN = Amount of the loan request.Importe de la solicitud de préstamo.\n",
    "* MORTDUE= Amount due on existing mortgage.Monto adeudado sobre la hipoteca existente.\n",
    "* VALUE= Value of current property.Valor de la propiedad actual.\n",
    "* YOJ= Years at present job.Años en el trabajo actual.\n",
    "* DEROG= Number of major derogatory reports.Número de informes derogados importantes.\n",
    "* DELINQ= Number of delinquent credit lines.Número de líneas de crédito morosas.\n",
    "* CLAGE= Age of oldest trade line in months..Antigüedad de la línea comercial más antigua en meses.\n",
    "* NINQ= Number of recent credit lines.Número de líneas de crédito recientes.\n",
    "* CLNO= Number of credit lines.Número de líneas de crédito.\n",
    "* DEBTINC= Debt-to-income ratio.Relación deuda-ingresos."
   ]
  },
  {
   "cell_type": "markdown",
   "metadata": {},
   "source": [
    "#### 4. ¿Qué atributos imagina ud. que son los más determinantes para la predicción?"
   ]
  },
  {
   "cell_type": "markdown",
   "metadata": {},
   "source": [
    "Consideramos que los atributos determinantes para la predicción son:\n",
    "\n",
    "* DEBTINC=Relación Deuda-Ingresos\n",
    "* DELINQ=Número de lineas de crédito morosas\n",
    "* DEROG= Número de informes derogados importantes\n",
    "* NINQ=Número de lineas de crédito morosas"
   ]
  },
  {
   "cell_type": "markdown",
   "metadata": {},
   "source": [
    "\n",
    "### Carga de datos , división y evaluación<a class=\"anchor\" id=\"division\"></a>"
   ]
  },
  {
   "cell_type": "markdown",
   "metadata": {},
   "source": [
    "\n",
    "Documentación:\n",
    "\n",
    "- https://scikit-learn.org/stable/modules/generated/sklearn.model_selection.train_test_split.html"
   ]
  },
  {
   "cell_type": "code",
   "execution_count": 3,
   "metadata": {},
   "outputs": [],
   "source": [
    "# División entre instancias y etiquetas\n",
    "X, y = dataset.iloc[:, 1:], dataset.TARGET\n",
    "\n",
    "# división entre entrenamiento y evaluación\n",
    "X_train, X_test, y_train, y_test = train_test_split(X, y, test_size=0.2, random_state=0)\n",
    "# División entre instancias y etiquetas\n",
    "X, y = dataset.iloc[:, 1:], dataset.TARGET\n",
    "\n",
    "# división entre entrenamiento y evaluación\n",
    "X_train, X_test, y_train, y_test = train_test_split(X, y, test_size=0.2, random_state=0)"
   ]
  },
  {
   "cell_type": "markdown",
   "metadata": {},
   "source": [
    "\n",
    "### Ejercicio 2: Predicción con Modelos Lineales<a class=\"anchor\" id=\"prediccion\"></a>\n",
    "\n",
    "En este ejercicio se entrenarán modelos lineales de clasificación para predecir la variable objetivo.\n",
    "\n",
    "Para ello, deberán utilizar la clase SGDClassifier de scikit-learn.\n",
    "\n",
    "Documentación:\n",
    "- https://scikit-learn.org/stable/modules/sgd.html\n",
    "- https://scikit-learn.org/stable/modules/generated/sklearn.linear_model.SGDClassifier.html\n"
   ]
  },
  {
   "cell_type": "code",
   "execution_count": 4,
   "metadata": {},
   "outputs": [
    {
     "name": "stdout",
     "output_type": "stream",
     "text": [
      "<class 'pandas.core.frame.DataFrame'>\n",
      "RangeIndex: 1854 entries, 0 to 1853\n",
      "Data columns (total 11 columns):\n",
      " #   Column   Non-Null Count  Dtype  \n",
      "---  ------   --------------  -----  \n",
      " 0   TARGET   1854 non-null   int64  \n",
      " 1   LOAN     1854 non-null   int64  \n",
      " 2   MORTDUE  1854 non-null   float64\n",
      " 3   VALUE    1854 non-null   float64\n",
      " 4   YOJ      1854 non-null   float64\n",
      " 5   DEROG    1854 non-null   float64\n",
      " 6   DELINQ   1854 non-null   float64\n",
      " 7   CLAGE    1854 non-null   float64\n",
      " 8   NINQ     1854 non-null   float64\n",
      " 9   CLNO     1854 non-null   float64\n",
      " 10  DEBTINC  1854 non-null   float64\n",
      "dtypes: float64(9), int64(2)\n",
      "memory usage: 159.5 KB\n"
     ]
    }
   ],
   "source": [
    "#Chequeamos información de nuestro dataset\n",
    "dataset.info()"
   ]
  },
  {
   "cell_type": "markdown",
   "metadata": {},
   "source": [
    "De lo anterior:\n",
    "   * La base de datos posee 1854 filas y 11 columnas\n",
    "   * No posee Nan"
   ]
  },
  {
   "cell_type": "code",
   "execution_count": 5,
   "metadata": {},
   "outputs": [
    {
     "data": {
      "text/plain": [
       "(1854, 11)"
      ]
     },
     "execution_count": 5,
     "metadata": {},
     "output_type": "execute_result"
    }
   ],
   "source": [
    "# Número de filas y columnas que conforman nuestro dataset\n",
    "dataset.shape"
   ]
  },
  {
   "cell_type": "code",
   "execution_count": 6,
   "metadata": {},
   "outputs": [
    {
     "data": {
      "text/plain": [
       "TARGET     0\n",
       "LOAN       0\n",
       "MORTDUE    0\n",
       "VALUE      0\n",
       "YOJ        0\n",
       "DEROG      0\n",
       "DELINQ     0\n",
       "CLAGE      0\n",
       "NINQ       0\n",
       "CLNO       0\n",
       "DEBTINC    0\n",
       "dtype: int64"
      ]
     },
     "execution_count": 6,
     "metadata": {},
     "output_type": "execute_result"
    }
   ],
   "source": [
    "#Corroboramos que nuestro dataset no tiene valores nulos \n",
    "dataset.isnull().sum()"
   ]
  },
  {
   "cell_type": "markdown",
   "metadata": {},
   "source": [
    "\n",
    "\n",
    "#### Ejercicio 2.1: SGDClassifier con hiperparámetros por defecto<a class=\"anchor\" id=\"classifier\"></a>\n",
    "\n",
    "Entrenar y evaluar el clasificador SGDClassifier usando los valores por omisión de scikit-learn para todos los parámetros. Únicamente **fijar la semilla aleatoria** para hacer repetible el experimento.\n",
    "\n",
    "Evaluar sobre el conjunto de **entrenamiento** y sobre el conjunto de **evaluación**, reportando:\n",
    "- Accuracy\n",
    "- Precision\n",
    "- Recall\n",
    "- F1\n",
    "- matriz de confusión"
   ]
  },
  {
   "cell_type": "markdown",
   "metadata": {},
   "source": [
    "* El Accuracy mide la proporción de las predicciones que realiza el modelo que fueron correctas,este puede tomar valores entre 0 y 100%.\n",
    "* La precisión mide la proporción de las predicciones positivas hechas por el modelo que son correctas.\n",
    "* El Recall mide la proporción de casos reales positivos que son predichos como tales.El foco de este indicador está en capturar todos los casos positivos como positivos.\n",
    "* El F1 Score se crea con el objetivo de contar con un único indicador para optimizar / comparar.Es la Métrica basada en media armónica entre recall y precisión."
   ]
  },
  {
   "cell_type": "markdown",
   "metadata": {},
   "source": [
    "La matriz de confusión es un herramienta que permite visualizar el desempeño / calidad de los modelos de machine learning.\n",
    "Los elementos de una matriz de confusión son:\n",
    "Columnas: Casos reales según cada clase (valores de la variable dependiente)\n",
    "Filas: Predicciones del modelo por cada clase.\n",
    "¿Qué podemos ver entonces en la matriz?\n",
    "##### y %  de casos reales por clase.\n",
    "##### y %  de casos predichos por clase.\n",
    "##### y % de aciertos y errores del modelo.\n",
    "Veamos cada cuadrante del ejemplo:\n",
    "* Verdaderos positivos (VP o TP): Acierto del modelo al predecir ocurrencia del evento para casos en que efectivamente ocurre (casos verdaderos predichos como verdaderos).\n",
    "* Verdaderos negativos (VN o TN): Acierto del modelo al predecir no ocurrencia del evento para casos en que efectivamente no ocurre (casos falsos predichos como falsos).\n",
    "* Falsos positivos (FP o Error tipo I): Error del modelo al predecir ocurrencia del evento para casos en que no ocurre (casos falsos predichos como positivos).\n",
    "* Falsos negativos (FN o Error tipo II): Error del modelo al predecir no ocurrencia del evento para casos en que sí ocurre (casos positivos predichos como falsos).\n",
    "En base a la matriz de confusión definiremos las métricas de evaluación: recall, accuracy, F1-Score, etc."
   ]
  },
  {
   "cell_type": "markdown",
   "metadata": {},
   "source": [
    "Se empleo el siguiente  link para información de SGDClassifier"
   ]
  },
  {
   "cell_type": "markdown",
   "metadata": {},
   "source": [
    "* https://scikit-learn.org/stable/modules/sgd.html#sgd"
   ]
  },
  {
   "cell_type": "code",
   "execution_count": 7,
   "metadata": {},
   "outputs": [
    {
     "data": {
      "text/plain": [
       "SGDClassifier(random_state=100)"
      ]
     },
     "execution_count": 7,
     "metadata": {},
     "output_type": "execute_result"
    }
   ],
   "source": [
    "#En base a la información proporcionada por el link , se importa la libreria de Sklearn\n",
    "from sklearn.preprocessing import StandardScaler\n",
    "from sklearn.linear_model import SGDClassifier\n",
    "classifier = SGDClassifier(random_state= 100)\n",
    "scaler = StandardScaler()\n",
    "X_train = scaler.fit_transform(X_train)\n",
    "X_test = scaler.transform(X_test)\n",
    "classifier.fit(X_train, y_train)"
   ]
  },
  {
   "cell_type": "code",
   "execution_count": 8,
   "metadata": {},
   "outputs": [
    {
     "name": "stdout",
     "output_type": "stream",
     "text": [
      "Resultados para conjunto de train \n",
      "\n",
      "              precision    recall  f1-score   support\n",
      "\n",
      "           0       0.87      0.98      0.93      1232\n",
      "           1       0.80      0.30      0.43       251\n",
      "\n",
      "    accuracy                           0.87      1483\n",
      "   macro avg       0.84      0.64      0.68      1483\n",
      "weighted avg       0.86      0.87      0.84      1483\n",
      "\n"
     ]
    },
    {
     "data": {
      "image/png": "[encoded data removed]",
      "text/plain": [
       "<Figure size 432x288 with 2 Axes>"
      ]
     },
     "metadata": {
      "needs_background": "light"
     },
     "output_type": "display_data"
    }
   ],
   "source": [
    "y_pred_train = classifier.predict(X_train)\n",
    "sns.heatmap(confusion_matrix(y_train, y_pred_train), annot= True)\n",
    "print('Resultados para conjunto de train \\n')\n",
    "print(classification_report(y_train, y_pred_train))"
   ]
  },
  {
   "cell_type": "markdown",
   "metadata": {},
   "source": [
    "Conclusión matriz de confusión para resultados de train \n",
    "Target= Vale 0 cuando el cliente pagó el préstamo, y 1 cuando no.\n",
    "* Verdaderos Positivos = El modelo muestra 1.2e+03 valores al predecir ocurrencia del evento , en este caso , el pago del préstamo por el cliente , para casos que efectivamente ocurren (Casos verdaderos predichos como verdaderos).\n",
    "* Verdaderos Negativos = El modelo determina 75 valores al predecir la no ocurrencia del modelo , la falta de pago del prestamos por parte del cliente,para casos que efectivamente no ocurren(Casos falsos predichos como falsos).\n",
    "* Falsos positivos= El modelo determina 19 valores al predecir que ocurre el pago del prestamo por parte del cliente , cuando en realidad no ocurre el pago.\n",
    "* Falsos Negativos= El modelo muestra 1.8e+02 valores al predecir que no ocurre el pago del prestamo por parte del cliente cuando en realidad si ocurre."
   ]
  },
  {
   "cell_type": "code",
   "execution_count": 9,
   "metadata": {},
   "outputs": [
    {
     "name": "stdout",
     "output_type": "stream",
     "text": [
      "Resultados para conjunto de test \n",
      "\n",
      "              precision    recall  f1-score   support\n",
      "\n",
      "           0       0.88      0.99      0.93       313\n",
      "           1       0.85      0.29      0.44        58\n",
      "\n",
      "    accuracy                           0.88       371\n",
      "   macro avg       0.87      0.64      0.68       371\n",
      "weighted avg       0.88      0.88      0.86       371\n",
      "\n"
     ]
    },
    {
     "data": {
      "image/png": "[encoded data removed]",
      "text/plain": [
       "<Figure size 432x288 with 2 Axes>"
      ]
     },
     "metadata": {
      "needs_background": "light"
     },
     "output_type": "display_data"
    }
   ],
   "source": [
    "y_pred = classifier.predict(X_test)\n",
    "sns.heatmap(confusion_matrix(y_test, y_pred), annot= True)\n",
    "print('Resultados para conjunto de test \\n')\n",
    "print(classification_report(y_test, y_pred))"
   ]
  },
  {
   "cell_type": "markdown",
   "metadata": {},
   "source": [
    "Conclusión matriz de confusión para resultados de test\n",
    "Target= Vale 0 cuando el cliente pagó el préstamo, y 1 cuando no.\n",
    "* Verdaderos Positivos = El modelo muestra 3.1e+02 valores al predecir ocurrencia del evento , en este caso , el pago del préstamo por el cliente , para casos que efectivamente ocurren (Casos verdaderos predichos como verdaderos).\n",
    "* Verdaderos Negativos = El modelo determina 17 valores al predecir la no ocurrencia del modelo , la falta de pago del prestamos por parte del cliente,para casos que efectivamente no ocurren(Casos falsos predichos como falsos).\n",
    "* Falsos positivos= El modelo determina 3 valores al predecir que ocurre el pago del prestamo por parte del cliente , cuando en realidad no ocurre el pago.\n",
    "* Falsos Negativos= El modelo muestra 41 valores al predecir que no ocurre el pago del prestamo por parte del cliente cuando en realidad si ocurre."
   ]
  },
  {
   "cell_type": "markdown",
   "metadata": {},
   "source": [
    "\n",
    "#### Ejercicio 2.2:  Ajuste de Hiperparámetros<a class=\"anchor\" id=\"ajuste\"></a>\n",
    "Seleccionar valores para los hiperparámetros principales del SGDClassifier. Como mínimo, probar diferentes funciones de loss, tasas de entrenamiento y tasas de regularización.\n",
    "\n",
    "Para ello, usar grid-search y 5-fold cross-validation sobre el conjunto de entrenamiento para explorar muchas combinaciones posibles de valores.\n",
    "\n",
    "Reportar accuracy promedio y varianza para todas las configuraciones.\n",
    "\n",
    "Para la mejor configuración encontrada, evaluar sobre el conjunto de **entrenamiento** y sobre el conjunto de **evaluación**, reportando:\n",
    "- Accuracy\n",
    "- Precision\n",
    "- Recall\n",
    "- F1\n",
    "- matriz de confusión\n",
    "\n",
    "Documentación:\n",
    "- https://scikit-learn.org/stable/modules/grid_search.html\n",
    "- https://scikit-learn.org/stable/modules/generated/sklearn.model_selection.GridSearchCV.html\n",
    "- https://scikit-learn.org/stable/modules/generated/sklearn.model_selection.ParameterGrid.html\n",
    "- https://www.knowledgehut.com/tutorials/machine-learning/hyperparameter-tuning-machine-learning\n",
    "- https://upscfever.com/upsc-fever/en/programming/python/20c.html"
   ]
  },
  {
   "cell_type": "markdown",
   "metadata": {},
   "source": [
    "[GridSearchCV](https://scikit-learn.org/stable/modules/generated/sklearn.model_selection.GridSearchCV.html) nos sirve para hacer validación cruzada sobre una grilla de parámetros. Sklearn se encarga de todo el proceso y nos devuelve una tabla de resultados y el mejor clasificador obtenido.\n",
    "\n",
    "La búsqueda se puede configurar de varias maneras. Por defecto la validación cruzada es estratificada.\n",
    "\n",
    "- [scoring parameter](https://scikit-learn.org/stable/modules/model_evaluation.html#scoring-parameter9)"
   ]
  },
  {
   "cell_type": "code",
   "execution_count": 10,
   "metadata": {},
   "outputs": [
    {
     "data": {
      "text/html": [
       "<div>\n",
       "<style scoped>\n",
       "    .dataframe tbody tr th:only-of-type {\n",
       "        vertical-align: middle;\n",
       "    }\n",
       "\n",
       "    .dataframe tbody tr th {\n",
       "        vertical-align: top;\n",
       "    }\n",
       "\n",
       "    .dataframe thead th {\n",
       "        text-align: right;\n",
       "    }\n",
       "</style>\n",
       "<table border=\"1\" class=\"dataframe\">\n",
       "  <thead>\n",
       "    <tr style=\"text-align: right;\">\n",
       "      <th></th>\n",
       "      <th>param_loss</th>\n",
       "      <th>param_alpha</th>\n",
       "      <th>param_penalty</th>\n",
       "      <th>param_l1_ratio</th>\n",
       "      <th>mean_test_score</th>\n",
       "      <th>std_test_score</th>\n",
       "      <th>rank_test_score</th>\n",
       "    </tr>\n",
       "  </thead>\n",
       "  <tbody>\n",
       "    <tr>\n",
       "      <th>3</th>\n",
       "      <td>hinge</td>\n",
       "      <td>0.001</td>\n",
       "      <td>elasticnet</td>\n",
       "      <td>0.5</td>\n",
       "      <td>0.869178</td>\n",
       "      <td>0.005933</td>\n",
       "      <td>1</td>\n",
       "    </tr>\n",
       "    <tr>\n",
       "      <th>0</th>\n",
       "      <td>hinge</td>\n",
       "      <td>0.001</td>\n",
       "      <td>elasticnet</td>\n",
       "      <td>0.2</td>\n",
       "      <td>0.867829</td>\n",
       "      <td>0.008460</td>\n",
       "      <td>2</td>\n",
       "    </tr>\n",
       "    <tr>\n",
       "      <th>6</th>\n",
       "      <td>hinge</td>\n",
       "      <td>0.001</td>\n",
       "      <td>elasticnet</td>\n",
       "      <td>0.75</td>\n",
       "      <td>0.867156</td>\n",
       "      <td>0.003635</td>\n",
       "      <td>3</td>\n",
       "    </tr>\n",
       "    <tr>\n",
       "      <th>1</th>\n",
       "      <td>log</td>\n",
       "      <td>0.001</td>\n",
       "      <td>elasticnet</td>\n",
       "      <td>0.2</td>\n",
       "      <td>0.865149</td>\n",
       "      <td>0.016159</td>\n",
       "      <td>4</td>\n",
       "    </tr>\n",
       "    <tr>\n",
       "      <th>7</th>\n",
       "      <td>log</td>\n",
       "      <td>0.001</td>\n",
       "      <td>elasticnet</td>\n",
       "      <td>0.75</td>\n",
       "      <td>0.865149</td>\n",
       "      <td>0.014678</td>\n",
       "      <td>4</td>\n",
       "    </tr>\n",
       "    <tr>\n",
       "      <th>4</th>\n",
       "      <td>log</td>\n",
       "      <td>0.001</td>\n",
       "      <td>elasticnet</td>\n",
       "      <td>0.5</td>\n",
       "      <td>0.863798</td>\n",
       "      <td>0.012634</td>\n",
       "      <td>6</td>\n",
       "    </tr>\n",
       "    <tr>\n",
       "      <th>12</th>\n",
       "      <td>hinge</td>\n",
       "      <td>0.0001</td>\n",
       "      <td>elasticnet</td>\n",
       "      <td>0.5</td>\n",
       "      <td>0.855016</td>\n",
       "      <td>0.010325</td>\n",
       "      <td>7</td>\n",
       "    </tr>\n",
       "    <tr>\n",
       "      <th>9</th>\n",
       "      <td>hinge</td>\n",
       "      <td>0.0001</td>\n",
       "      <td>elasticnet</td>\n",
       "      <td>0.2</td>\n",
       "      <td>0.852321</td>\n",
       "      <td>0.010835</td>\n",
       "      <td>8</td>\n",
       "    </tr>\n",
       "    <tr>\n",
       "      <th>10</th>\n",
       "      <td>log</td>\n",
       "      <td>0.0001</td>\n",
       "      <td>elasticnet</td>\n",
       "      <td>0.2</td>\n",
       "      <td>0.848988</td>\n",
       "      <td>0.022089</td>\n",
       "      <td>9</td>\n",
       "    </tr>\n",
       "    <tr>\n",
       "      <th>19</th>\n",
       "      <td>log</td>\n",
       "      <td>0.00001</td>\n",
       "      <td>elasticnet</td>\n",
       "      <td>0.2</td>\n",
       "      <td>0.848289</td>\n",
       "      <td>0.019018</td>\n",
       "      <td>10</td>\n",
       "    </tr>\n",
       "    <tr>\n",
       "      <th>16</th>\n",
       "      <td>log</td>\n",
       "      <td>0.0001</td>\n",
       "      <td>elasticnet</td>\n",
       "      <td>0.75</td>\n",
       "      <td>0.844936</td>\n",
       "      <td>0.021565</td>\n",
       "      <td>11</td>\n",
       "    </tr>\n",
       "    <tr>\n",
       "      <th>13</th>\n",
       "      <td>log</td>\n",
       "      <td>0.0001</td>\n",
       "      <td>elasticnet</td>\n",
       "      <td>0.5</td>\n",
       "      <td>0.843571</td>\n",
       "      <td>0.007947</td>\n",
       "      <td>12</td>\n",
       "    </tr>\n",
       "    <tr>\n",
       "      <th>25</th>\n",
       "      <td>log</td>\n",
       "      <td>0.00001</td>\n",
       "      <td>elasticnet</td>\n",
       "      <td>0.75</td>\n",
       "      <td>0.835458</td>\n",
       "      <td>0.021987</td>\n",
       "      <td>13</td>\n",
       "    </tr>\n",
       "    <tr>\n",
       "      <th>24</th>\n",
       "      <td>hinge</td>\n",
       "      <td>0.00001</td>\n",
       "      <td>elasticnet</td>\n",
       "      <td>0.75</td>\n",
       "      <td>0.828046</td>\n",
       "      <td>0.018116</td>\n",
       "      <td>14</td>\n",
       "    </tr>\n",
       "    <tr>\n",
       "      <th>26</th>\n",
       "      <td>perceptron</td>\n",
       "      <td>0.00001</td>\n",
       "      <td>elasticnet</td>\n",
       "      <td>0.75</td>\n",
       "      <td>0.816594</td>\n",
       "      <td>0.012255</td>\n",
       "      <td>15</td>\n",
       "    </tr>\n",
       "    <tr>\n",
       "      <th>22</th>\n",
       "      <td>log</td>\n",
       "      <td>0.00001</td>\n",
       "      <td>elasticnet</td>\n",
       "      <td>0.5</td>\n",
       "      <td>0.814610</td>\n",
       "      <td>0.048090</td>\n",
       "      <td>16</td>\n",
       "    </tr>\n",
       "    <tr>\n",
       "      <th>15</th>\n",
       "      <td>hinge</td>\n",
       "      <td>0.0001</td>\n",
       "      <td>elasticnet</td>\n",
       "      <td>0.75</td>\n",
       "      <td>0.812538</td>\n",
       "      <td>0.025260</td>\n",
       "      <td>17</td>\n",
       "    </tr>\n",
       "    <tr>\n",
       "      <th>2</th>\n",
       "      <td>perceptron</td>\n",
       "      <td>0.001</td>\n",
       "      <td>elasticnet</td>\n",
       "      <td>0.2</td>\n",
       "      <td>0.811250</td>\n",
       "      <td>0.038648</td>\n",
       "      <td>18</td>\n",
       "    </tr>\n",
       "    <tr>\n",
       "      <th>18</th>\n",
       "      <td>hinge</td>\n",
       "      <td>0.00001</td>\n",
       "      <td>elasticnet</td>\n",
       "      <td>0.2</td>\n",
       "      <td>0.808524</td>\n",
       "      <td>0.022962</td>\n",
       "      <td>19</td>\n",
       "    </tr>\n",
       "    <tr>\n",
       "      <th>23</th>\n",
       "      <td>perceptron</td>\n",
       "      <td>0.00001</td>\n",
       "      <td>elasticnet</td>\n",
       "      <td>0.5</td>\n",
       "      <td>0.808454</td>\n",
       "      <td>0.052041</td>\n",
       "      <td>20</td>\n",
       "    </tr>\n",
       "    <tr>\n",
       "      <th>17</th>\n",
       "      <td>perceptron</td>\n",
       "      <td>0.0001</td>\n",
       "      <td>elasticnet</td>\n",
       "      <td>0.75</td>\n",
       "      <td>0.792292</td>\n",
       "      <td>0.048887</td>\n",
       "      <td>21</td>\n",
       "    </tr>\n",
       "    <tr>\n",
       "      <th>14</th>\n",
       "      <td>perceptron</td>\n",
       "      <td>0.0001</td>\n",
       "      <td>elasticnet</td>\n",
       "      <td>0.5</td>\n",
       "      <td>0.790318</td>\n",
       "      <td>0.033223</td>\n",
       "      <td>22</td>\n",
       "    </tr>\n",
       "    <tr>\n",
       "      <th>11</th>\n",
       "      <td>perceptron</td>\n",
       "      <td>0.0001</td>\n",
       "      <td>elasticnet</td>\n",
       "      <td>0.2</td>\n",
       "      <td>0.786937</td>\n",
       "      <td>0.024903</td>\n",
       "      <td>23</td>\n",
       "    </tr>\n",
       "    <tr>\n",
       "      <th>20</th>\n",
       "      <td>perceptron</td>\n",
       "      <td>0.00001</td>\n",
       "      <td>elasticnet</td>\n",
       "      <td>0.2</td>\n",
       "      <td>0.778758</td>\n",
       "      <td>0.049477</td>\n",
       "      <td>24</td>\n",
       "    </tr>\n",
       "    <tr>\n",
       "      <th>21</th>\n",
       "      <td>hinge</td>\n",
       "      <td>0.00001</td>\n",
       "      <td>elasticnet</td>\n",
       "      <td>0.5</td>\n",
       "      <td>0.768794</td>\n",
       "      <td>0.083728</td>\n",
       "      <td>25</td>\n",
       "    </tr>\n",
       "    <tr>\n",
       "      <th>5</th>\n",
       "      <td>perceptron</td>\n",
       "      <td>0.001</td>\n",
       "      <td>elasticnet</td>\n",
       "      <td>0.5</td>\n",
       "      <td>0.767447</td>\n",
       "      <td>0.092203</td>\n",
       "      <td>26</td>\n",
       "    </tr>\n",
       "    <tr>\n",
       "      <th>8</th>\n",
       "      <td>perceptron</td>\n",
       "      <td>0.001</td>\n",
       "      <td>elasticnet</td>\n",
       "      <td>0.75</td>\n",
       "      <td>0.741655</td>\n",
       "      <td>0.114447</td>\n",
       "      <td>27</td>\n",
       "    </tr>\n",
       "  </tbody>\n",
       "</table>\n",
       "</div>"
      ],
      "text/plain": [
       "    param_loss param_alpha param_penalty param_l1_ratio  mean_test_score  \\\n",
       "3        hinge       0.001    elasticnet            0.5         0.869178   \n",
       "0        hinge       0.001    elasticnet            0.2         0.867829   \n",
       "6        hinge       0.001    elasticnet           0.75         0.867156   \n",
       "1          log       0.001    elasticnet            0.2         0.865149   \n",
       "7          log       0.001    elasticnet           0.75         0.865149   \n",
       "4          log       0.001    elasticnet            0.5         0.863798   \n",
       "12       hinge      0.0001    elasticnet            0.5         0.855016   \n",
       "9        hinge      0.0001    elasticnet            0.2         0.852321   \n",
       "10         log      0.0001    elasticnet            0.2         0.848988   \n",
       "19         log     0.00001    elasticnet            0.2         0.848289   \n",
       "16         log      0.0001    elasticnet           0.75         0.844936   \n",
       "13         log      0.0001    elasticnet            0.5         0.843571   \n",
       "25         log     0.00001    elasticnet           0.75         0.835458   \n",
       "24       hinge     0.00001    elasticnet           0.75         0.828046   \n",
       "26  perceptron     0.00001    elasticnet           0.75         0.816594   \n",
       "22         log     0.00001    elasticnet            0.5         0.814610   \n",
       "15       hinge      0.0001    elasticnet           0.75         0.812538   \n",
       "2   perceptron       0.001    elasticnet            0.2         0.811250   \n",
       "18       hinge     0.00001    elasticnet            0.2         0.808524   \n",
       "23  perceptron     0.00001    elasticnet            0.5         0.808454   \n",
       "17  perceptron      0.0001    elasticnet           0.75         0.792292   \n",
       "14  perceptron      0.0001    elasticnet            0.5         0.790318   \n",
       "11  perceptron      0.0001    elasticnet            0.2         0.786937   \n",
       "20  perceptron     0.00001    elasticnet            0.2         0.778758   \n",
       "21       hinge     0.00001    elasticnet            0.5         0.768794   \n",
       "5   perceptron       0.001    elasticnet            0.5         0.767447   \n",
       "8   perceptron       0.001    elasticnet           0.75         0.741655   \n",
       "\n",
       "    std_test_score  rank_test_score  \n",
       "3         0.005933                1  \n",
       "0         0.008460                2  \n",
       "6         0.003635                3  \n",
       "1         0.016159                4  \n",
       "7         0.014678                4  \n",
       "4         0.012634                6  \n",
       "12        0.010325                7  \n",
       "9         0.010835                8  \n",
       "10        0.022089                9  \n",
       "19        0.019018               10  \n",
       "16        0.021565               11  \n",
       "13        0.007947               12  \n",
       "25        0.021987               13  \n",
       "24        0.018116               14  \n",
       "26        0.012255               15  \n",
       "22        0.048090               16  \n",
       "15        0.025260               17  \n",
       "2         0.038648               18  \n",
       "18        0.022962               19  \n",
       "23        0.052041               20  \n",
       "17        0.048887               21  \n",
       "14        0.033223               22  \n",
       "11        0.024903               23  \n",
       "20        0.049477               24  \n",
       "21        0.083728               25  \n",
       "5         0.092203               26  \n",
       "8         0.114447               27  "
      ]
     },
     "execution_count": 10,
     "metadata": {},
     "output_type": "execute_result"
    }
   ],
   "source": [
    "param_grid = {\n",
    "    'loss': ['hinge', 'log', 'perceptron'],\n",
    "    'alpha': [0.001, 0.0001, 0.00001],\n",
    "    'penalty': ['elasticnet'],\n",
    "    'l1_ratio': [0.2, 0.5, 0.75] \n",
    "}\n",
    "\n",
    "cv = GridSearchCV(classifier, param_grid, scoring='accuracy', cv=5)\n",
    "cv.fit(X_train, y_train)\n",
    "\n",
    "results = cv.cv_results_\n",
    "df = pd.DataFrame(results)\n",
    "\n",
    "df[['param_loss', 'param_alpha', 'param_penalty', 'param_l1_ratio', 'mean_test_score', 'std_test_score', 'rank_test_score']].sort_values('rank_test_score')"
   ]
  },
  {
   "cell_type": "code",
   "execution_count": 11,
   "metadata": {},
   "outputs": [
    {
     "data": {
      "text/plain": [
       "SGDClassifier(alpha=0.001, l1_ratio=0.5, penalty='elasticnet', random_state=100)"
      ]
     },
     "execution_count": 11,
     "metadata": {},
     "output_type": "execute_result"
    }
   ],
   "source": [
    "best_model = cv.best_estimator_\n",
    "best_model"
   ]
  },
  {
   "cell_type": "code",
   "execution_count": 12,
   "metadata": {},
   "outputs": [
    {
     "data": {
      "text/plain": [
       "{'alpha': 0.001, 'l1_ratio': 0.5, 'loss': 'hinge', 'penalty': 'elasticnet'}"
      ]
     },
     "execution_count": 12,
     "metadata": {},
     "output_type": "execute_result"
    }
   ],
   "source": [
    "cv.best_params_"
   ]
  },
  {
   "cell_type": "code",
   "execution_count": 13,
   "metadata": {},
   "outputs": [
    {
     "name": "stdout",
     "output_type": "stream",
     "text": [
      "Resultados para el mejor modelo conjunto train \n",
      "\n",
      "              precision    recall  f1-score   support\n",
      "\n",
      "           0       0.86      0.99      0.92      1232\n",
      "           1       0.89      0.24      0.37       251\n",
      "\n",
      "    accuracy                           0.87      1483\n",
      "   macro avg       0.88      0.61      0.65      1483\n",
      "weighted avg       0.87      0.87      0.83      1483\n",
      "\n"
     ]
    },
    {
     "data": {
      "image/png": "[encoded data removed]",
      "text/plain": [
       "<Figure size 432x288 with 2 Axes>"
      ]
     },
     "metadata": {
      "needs_background": "light"
     },
     "output_type": "display_data"
    }
   ],
   "source": [
    "y_pred_train = cv.predict(X_train)\n",
    "print('Resultados para el mejor modelo conjunto train \\n')\n",
    "sns.heatmap(confusion_matrix(y_train, y_pred_train), annot=True, fmt='g')\n",
    "print(classification_report(y_train, y_pred_train))"
   ]
  },
  {
   "cell_type": "markdown",
   "metadata": {},
   "source": [
    "Conclusión matriz de confusión para resultados de train \n",
    "Target= Vale 0 cuando el cliente pagó el préstamo, y 1 cuando no.\n",
    "* Verdaderos Positivos = El modelo muestra 1225 valores al predecir el pago del préstamo por parte del cliente, cuando en realidad si ocurrio tal evento (Casos verdaderos predichos como verdaderos).\n",
    "* Verdaderos Negativos = El modelo determina 59 valores al predecir la no ocurrencia del pago por parte del préstamo por parte del cliente ,para casos que efectivamente no ocurren(Casos falsos predichos como falsos).\n",
    "* Falsos positivos= El modelo determina 7 valores al predecir que ocurre el pago del prestamo por parte del cliente , cuando en realidad no ocurre el pago.\n",
    "* Falsos Negativos= El modelo muestra 192 valores al predecir que no ocurre el pago del prestamo por parte del cliente cuando en realidad si ocurre.\n"
   ]
  },
  {
   "cell_type": "code",
   "execution_count": 14,
   "metadata": {},
   "outputs": [
    {
     "name": "stdout",
     "output_type": "stream",
     "text": [
      "Resultados para el mejor modelo conjunto test \n",
      "\n",
      "              precision    recall  f1-score   support\n",
      "\n",
      "           0       0.88      0.99      0.93       313\n",
      "           1       0.85      0.29      0.44        58\n",
      "\n",
      "    accuracy                           0.88       371\n",
      "   macro avg       0.87      0.64      0.68       371\n",
      "weighted avg       0.88      0.88      0.86       371\n",
      "\n"
     ]
    },
    {
     "data": {
      "image/png": "[encoded data removed]",
      "text/plain": [
       "<Figure size 432x288 with 2 Axes>"
      ]
     },
     "metadata": {
      "needs_background": "light"
     },
     "output_type": "display_data"
    }
   ],
   "source": [
    "y_pred = cv.predict(X_test)\n",
    "print('Resultados para el mejor modelo conjunto test \\n')\n",
    "sns.heatmap(confusion_matrix(y_test, y_pred), annot=True, fmt='g')\n",
    "print(classification_report(y_test, y_pred))"
   ]
  },
  {
   "cell_type": "markdown",
   "metadata": {},
   "source": [
    "Conclusión matriz de confusión para resultados de train \n",
    "Target= Vale 0 cuando el cliente pagó el préstamo, y 1 cuando no.\n",
    "* Verdaderos Positivos = El modelo muestra 310 valores al predecir ocurrencia del evento , en este caso , el pago del préstamo por el cliente , para casos que efectivamente ocurren (Casos verdaderos predichos como verdaderos).\n",
    "* Verdaderos Negativos = El modelo determina 17 valores al predecir la no ocurrencia del modelo , la falta de pago del prestamos por parte del cliente,para casos que efectivamente no ocurren(Casos falsos predichos como falsos).\n",
    "* Falsos positivos= El modelo determina 3 valores al predecir que ocurre el pago del prestamo por parte del cliente , cuando en realidad no ocurre el pago.\n",
    "* Falsos Negativos= El modelo muestra 41 valores al predecir que no ocurre el pago del prestamo por parte del cliente cuando en realidad si ocurre."
   ]
  },
  {
   "cell_type": "markdown",
   "metadata": {},
   "source": [
    "### Ejercicio 3:  Arbol de decisión<a class=\"anchor\" id=\"arbol\"></a>\n",
    "En este ejercicio se entrenarán árboles de decisión para predecir la variable objetivo.\n",
    "\n",
    "Para ello, deberán utilizar la clase DecisionTreeClassifier de scikit-learn.\n",
    "\n",
    "Documentación:\n",
    "- https://scikit-learn.org/stable/modules/tree.html\n",
    "  - https://scikit-learn.org/stable/modules/tree.html#tips-on-practical-use\n",
    "- https://scikit-learn.org/stable/modules/generated/sklearn.tree.DecisionTreeClassifier.html\n",
    "- https://scikit-learn.org/stable/auto_examples/tree/plot_unveil_tree_structure.html"
   ]
  },
  {
   "cell_type": "markdown",
   "metadata": {},
   "source": [
    "\n",
    "#### Ejercicio 3.1: DecisionTreeClassifier con hiperparámetros por defecto<a class=\"anchor\" id=\"arbol1\"></a>\n",
    "Entrenar y evaluar el clasificador DecisionTreeClassifier usando los valores por omisión de scikit-learn para todos los parámetros. Únicamente **fijar la semilla aleatoria** para hacer repetible el experimento.\n",
    "\n",
    "Evaluar sobre el conjunto de **entrenamiento** y sobre el conjunto de **evaluación**, reportando:\n",
    "- Accuracy\n",
    "- Precision\n",
    "- Recall\n",
    "- F1\n",
    "- matriz de confusión\n"
   ]
  },
  {
   "cell_type": "code",
   "execution_count": 15,
   "metadata": {},
   "outputs": [
    {
     "data": {
      "text/plain": [
       "DecisionTreeClassifier(random_state=100)"
      ]
     },
     "execution_count": 15,
     "metadata": {},
     "output_type": "execute_result"
    }
   ],
   "source": [
    "from sklearn.tree import DecisionTreeClassifier\n",
    "#max_depth=2\n",
    "#Se fija solamente la semilla aleatoria según enunciado\n",
    "clf = DecisionTreeClassifier(random_state=100)\n",
    "clf.fit(X_train, y_train)"
   ]
  },
  {
   "cell_type": "code",
   "execution_count": 16,
   "metadata": {},
   "outputs": [],
   "source": [
    "#y_train_pred = clf.predict(X_train)\n",
    "#y_test_pred = clf.predict(X_test)"
   ]
  },
  {
   "cell_type": "code",
   "execution_count": 17,
   "metadata": {},
   "outputs": [
    {
     "name": "stdout",
     "output_type": "stream",
     "text": [
      "              precision    recall  f1-score   support\n",
      "\n",
      "           0       1.00      1.00      1.00      1232\n",
      "           1       1.00      1.00      1.00       251\n",
      "\n",
      "    accuracy                           1.00      1483\n",
      "   macro avg       1.00      1.00      1.00      1483\n",
      "weighted avg       1.00      1.00      1.00      1483\n",
      "\n"
     ]
    },
    {
     "data": {
      "image/png": "[encoded data removed]",
      "text/plain": [
       "<Figure size 432x288 with 2 Axes>"
      ]
     },
     "metadata": {
      "needs_background": "light"
     },
     "output_type": "display_data"
    }
   ],
   "source": [
    "y_pred_train = clf.predict(X_train)\n",
    "sns.heatmap(confusion_matrix(y_train, y_pred_train), annot=True, fmt='g')\n",
    "print(classification_report(y_train, y_pred_train))\n",
    "#Cuándo vamos modificando el valor de la semilla aleatoria ,los valores de estos parámetros cambian."
   ]
  },
  {
   "cell_type": "markdown",
   "metadata": {},
   "source": [
    "Conclusión matriz de confusión para resultados de train \n",
    "\n",
    "* Verdaderos Positivos = El modelo muestra 1232 valores al predecir el pago del préstamo por parte del cliente, cuando en realidad si ocurrio tal evento (Casos verdaderos predichos como verdaderos).\n",
    "* Verdaderos Negativos = El modelo determina 251 valores al predecir la no ocurrencia del pago por parte del préstamo por parte del cliente ,para casos que efectivamente no ocurren(Casos falsos predichos como falsos).\n",
    "* Falsos positivos= El modelo determina 0 valores al predecir que ocurre el pago del prestamo por parte del cliente , cuando en realidad no ocurre el pago.\n",
    "* Falsos Negativos= El modelo muestra 0 valores al predecir que no ocurre el pago del prestamo por parte del cliente cuando en realidad si ocurre."
   ]
  },
  {
   "cell_type": "code",
   "execution_count": 18,
   "metadata": {},
   "outputs": [
    {
     "name": "stdout",
     "output_type": "stream",
     "text": [
      "              precision    recall  f1-score   support\n",
      "\n",
      "           0       0.94      0.95      0.94       313\n",
      "           1       0.72      0.66      0.68        58\n",
      "\n",
      "    accuracy                           0.91       371\n",
      "   macro avg       0.83      0.80      0.81       371\n",
      "weighted avg       0.90      0.91      0.90       371\n",
      "\n"
     ]
    },
    {
     "data": {
      "image/png": "[encoded data removed]",
      "text/plain": [
       "<Figure size 432x288 with 2 Axes>"
      ]
     },
     "metadata": {
      "needs_background": "light"
     },
     "output_type": "display_data"
    }
   ],
   "source": [
    "y_pred = clf.predict(X_test)\n",
    "sns.heatmap(confusion_matrix(y_test, y_pred), annot= True, fmt='g')\n",
    "print(classification_report(y_test, y_pred))"
   ]
  },
  {
   "cell_type": "markdown",
   "metadata": {},
   "source": [
    "Conclusión matriz de confusión para resultados de test\n",
    "Target= Vale 0 cuando el cliente pagó el préstamo, y 1 cuando no.\n",
    "* Verdaderos Positivos = El modelo muestra 298 valores al predecir el pago del préstamo por parte del cliente, cuando en realidad si ocurrio tal evento (Casos verdaderos predichos como verdaderos).\n",
    "* Verdaderos Negativos = El modelo determina 38 valores al predecir la no ocurrencia del pago por parte del préstamo por parte del cliente ,para casos que efectivamente no ocurren(Casos falsos predichos como falsos).\n",
    "* Falsos positivos= El modelo determina 15 valores al predecir que ocurre el pago del prestamo por parte del cliente , cuando en realidad no ocurre el pago.\n",
    "* Falsos Negativos= El modelo muestra 20 valores al predecir que no ocurre el pago del prestamo por parte del cliente cuando en realidad si ocurre."
   ]
  },
  {
   "cell_type": "code",
   "execution_count": 19,
   "metadata": {},
   "outputs": [
    {
     "data": {
      "image/png": "[encoded data removed]",
      "text/plain": [
       "<Figure size 432x288 with 1 Axes>"
      ]
     },
     "metadata": {
      "needs_background": "light"
     },
     "output_type": "display_data"
    }
   ],
   "source": [
    "#Inspeccionando el arbol de decisión\n",
    "from sklearn.tree import plot_tree\n",
    "\n",
    "plot_tree(clf);"
   ]
  },
  {
   "cell_type": "markdown",
   "metadata": {},
   "source": [
    "Cuando no defino un max_depth , el arbol de decisión toma una forma no definida como la anterior , es decir , multiples ramas , con lo cuál es dficil obtener una adecuada conclusión , pero si definimos esa variable podemos obtener una forma más óptima"
   ]
  },
  {
   "cell_type": "markdown",
   "metadata": {},
   "source": [
    "#### Ejercicio 3.2: Ajuste de Hiperparámetros<a class=\"anchor\" id=\"arbol2\"></a>\n",
    "\n",
    "Seleccionar valores para los hiperparámetros principales del DecisionTreeClassifier. Como mínimo, probar diferentes criterios de partición (criterion), profundidad máxima del árbol (max_depth), y cantidad mínima de samples por hoja (min_samples_leaf).\n",
    "\n",
    "Para ello, usar grid-search y 5-fold cross-validation sobre el conjunto de entrenamiento para explorar muchas combinaciones posibles de valores.\n",
    "\n",
    "Reportar accuracy promedio y varianza para todas las configuraciones.\n",
    "\n",
    "Para la mejor configuración encontrada, evaluar sobre el conjunto de **entrenamiento** y sobre el conjunto de **evaluación**, reportando:\n",
    "- Accuracy\n",
    "- Precision\n",
    "- Recall\n",
    "- F1\n",
    "- matriz de confusión\n",
    "\n",
    "\n",
    "Documentación:\n",
    "- https://scikit-learn.org/stable/modules/grid_search.html\n",
    "- https://scikit-learn.org/stable/modules/generated/sklearn.model_selection.GridSearchCV.html"
   ]
  },
  {
   "cell_type": "code",
   "execution_count": 20,
   "metadata": {},
   "outputs": [
    {
     "data": {
      "text/html": [
       "<div>\n",
       "<style scoped>\n",
       "    .dataframe tbody tr th:only-of-type {\n",
       "        vertical-align: middle;\n",
       "    }\n",
       "\n",
       "    .dataframe tbody tr th {\n",
       "        vertical-align: top;\n",
       "    }\n",
       "\n",
       "    .dataframe thead th {\n",
       "        text-align: right;\n",
       "    }\n",
       "</style>\n",
       "<table border=\"1\" class=\"dataframe\">\n",
       "  <thead>\n",
       "    <tr style=\"text-align: right;\">\n",
       "      <th></th>\n",
       "      <th>param_criterion</th>\n",
       "      <th>param_max_depth</th>\n",
       "      <th>param_min_samples_leaf</th>\n",
       "      <th>mean_test_score</th>\n",
       "      <th>std_test_score</th>\n",
       "      <th>rank_test_score</th>\n",
       "    </tr>\n",
       "  </thead>\n",
       "  <tbody>\n",
       "    <tr>\n",
       "      <th>32</th>\n",
       "      <td>entropy</td>\n",
       "      <td>5</td>\n",
       "      <td>10</td>\n",
       "      <td>0.880647</td>\n",
       "      <td>0.003456</td>\n",
       "      <td>1</td>\n",
       "    </tr>\n",
       "    <tr>\n",
       "      <th>11</th>\n",
       "      <td>gini</td>\n",
       "      <td>10</td>\n",
       "      <td>5</td>\n",
       "      <td>0.879991</td>\n",
       "      <td>0.019750</td>\n",
       "      <td>2</td>\n",
       "    </tr>\n",
       "    <tr>\n",
       "      <th>10</th>\n",
       "      <td>gini</td>\n",
       "      <td>10</td>\n",
       "      <td>1</td>\n",
       "      <td>0.879991</td>\n",
       "      <td>0.023914</td>\n",
       "      <td>3</td>\n",
       "    </tr>\n",
       "    <tr>\n",
       "      <th>7</th>\n",
       "      <td>gini</td>\n",
       "      <td>5</td>\n",
       "      <td>10</td>\n",
       "      <td>0.879302</td>\n",
       "      <td>0.005732</td>\n",
       "      <td>4</td>\n",
       "    </tr>\n",
       "    <tr>\n",
       "      <th>22</th>\n",
       "      <td>gini</td>\n",
       "      <td>20</td>\n",
       "      <td>10</td>\n",
       "      <td>0.877955</td>\n",
       "      <td>0.014463</td>\n",
       "      <td>5</td>\n",
       "    </tr>\n",
       "    <tr>\n",
       "      <th>17</th>\n",
       "      <td>gini</td>\n",
       "      <td>15</td>\n",
       "      <td>10</td>\n",
       "      <td>0.877955</td>\n",
       "      <td>0.014463</td>\n",
       "      <td>5</td>\n",
       "    </tr>\n",
       "    <tr>\n",
       "      <th>8</th>\n",
       "      <td>gini</td>\n",
       "      <td>5</td>\n",
       "      <td>15</td>\n",
       "      <td>0.877289</td>\n",
       "      <td>0.011670</td>\n",
       "      <td>7</td>\n",
       "    </tr>\n",
       "    <tr>\n",
       "      <th>12</th>\n",
       "      <td>gini</td>\n",
       "      <td>10</td>\n",
       "      <td>10</td>\n",
       "      <td>0.877282</td>\n",
       "      <td>0.014953</td>\n",
       "      <td>8</td>\n",
       "    </tr>\n",
       "    <tr>\n",
       "      <th>30</th>\n",
       "      <td>entropy</td>\n",
       "      <td>5</td>\n",
       "      <td>1</td>\n",
       "      <td>0.875935</td>\n",
       "      <td>0.008521</td>\n",
       "      <td>9</td>\n",
       "    </tr>\n",
       "    <tr>\n",
       "      <th>35</th>\n",
       "      <td>entropy</td>\n",
       "      <td>10</td>\n",
       "      <td>1</td>\n",
       "      <td>0.875264</td>\n",
       "      <td>0.010528</td>\n",
       "      <td>10</td>\n",
       "    </tr>\n",
       "    <tr>\n",
       "      <th>5</th>\n",
       "      <td>gini</td>\n",
       "      <td>5</td>\n",
       "      <td>1</td>\n",
       "      <td>0.874586</td>\n",
       "      <td>0.013334</td>\n",
       "      <td>11</td>\n",
       "    </tr>\n",
       "    <tr>\n",
       "      <th>13</th>\n",
       "      <td>gini</td>\n",
       "      <td>10</td>\n",
       "      <td>15</td>\n",
       "      <td>0.873917</td>\n",
       "      <td>0.021104</td>\n",
       "      <td>12</td>\n",
       "    </tr>\n",
       "    <tr>\n",
       "      <th>6</th>\n",
       "      <td>gini</td>\n",
       "      <td>5</td>\n",
       "      <td>5</td>\n",
       "      <td>0.873910</td>\n",
       "      <td>0.013029</td>\n",
       "      <td>13</td>\n",
       "    </tr>\n",
       "    <tr>\n",
       "      <th>33</th>\n",
       "      <td>entropy</td>\n",
       "      <td>5</td>\n",
       "      <td>15</td>\n",
       "      <td>0.873903</td>\n",
       "      <td>0.010599</td>\n",
       "      <td>14</td>\n",
       "    </tr>\n",
       "    <tr>\n",
       "      <th>31</th>\n",
       "      <td>entropy</td>\n",
       "      <td>5</td>\n",
       "      <td>5</td>\n",
       "      <td>0.873239</td>\n",
       "      <td>0.009065</td>\n",
       "      <td>15</td>\n",
       "    </tr>\n",
       "    <tr>\n",
       "      <th>3</th>\n",
       "      <td>gini</td>\n",
       "      <td>2</td>\n",
       "      <td>15</td>\n",
       "      <td>0.872563</td>\n",
       "      <td>0.008517</td>\n",
       "      <td>16</td>\n",
       "    </tr>\n",
       "    <tr>\n",
       "      <th>2</th>\n",
       "      <td>gini</td>\n",
       "      <td>2</td>\n",
       "      <td>10</td>\n",
       "      <td>0.872563</td>\n",
       "      <td>0.008517</td>\n",
       "      <td>16</td>\n",
       "    </tr>\n",
       "    <tr>\n",
       "      <th>23</th>\n",
       "      <td>gini</td>\n",
       "      <td>20</td>\n",
       "      <td>15</td>\n",
       "      <td>0.871897</td>\n",
       "      <td>0.020030</td>\n",
       "      <td>18</td>\n",
       "    </tr>\n",
       "    <tr>\n",
       "      <th>18</th>\n",
       "      <td>gini</td>\n",
       "      <td>15</td>\n",
       "      <td>15</td>\n",
       "      <td>0.871897</td>\n",
       "      <td>0.020030</td>\n",
       "      <td>18</td>\n",
       "    </tr>\n",
       "    <tr>\n",
       "      <th>0</th>\n",
       "      <td>gini</td>\n",
       "      <td>2</td>\n",
       "      <td>1</td>\n",
       "      <td>0.871888</td>\n",
       "      <td>0.007575</td>\n",
       "      <td>20</td>\n",
       "    </tr>\n",
       "    <tr>\n",
       "      <th>1</th>\n",
       "      <td>gini</td>\n",
       "      <td>2</td>\n",
       "      <td>5</td>\n",
       "      <td>0.871888</td>\n",
       "      <td>0.007575</td>\n",
       "      <td>20</td>\n",
       "    </tr>\n",
       "    <tr>\n",
       "      <th>9</th>\n",
       "      <td>gini</td>\n",
       "      <td>5</td>\n",
       "      <td>20</td>\n",
       "      <td>0.871223</td>\n",
       "      <td>0.016032</td>\n",
       "      <td>22</td>\n",
       "    </tr>\n",
       "    <tr>\n",
       "      <th>34</th>\n",
       "      <td>entropy</td>\n",
       "      <td>5</td>\n",
       "      <td>20</td>\n",
       "      <td>0.870541</td>\n",
       "      <td>0.011305</td>\n",
       "      <td>23</td>\n",
       "    </tr>\n",
       "    <tr>\n",
       "      <th>16</th>\n",
       "      <td>gini</td>\n",
       "      <td>15</td>\n",
       "      <td>5</td>\n",
       "      <td>0.869877</td>\n",
       "      <td>0.022938</td>\n",
       "      <td>24</td>\n",
       "    </tr>\n",
       "    <tr>\n",
       "      <th>21</th>\n",
       "      <td>gini</td>\n",
       "      <td>20</td>\n",
       "      <td>5</td>\n",
       "      <td>0.869203</td>\n",
       "      <td>0.023404</td>\n",
       "      <td>25</td>\n",
       "    </tr>\n",
       "    <tr>\n",
       "      <th>29</th>\n",
       "      <td>entropy</td>\n",
       "      <td>2</td>\n",
       "      <td>20</td>\n",
       "      <td>0.869194</td>\n",
       "      <td>0.009254</td>\n",
       "      <td>26</td>\n",
       "    </tr>\n",
       "    <tr>\n",
       "      <th>4</th>\n",
       "      <td>gini</td>\n",
       "      <td>2</td>\n",
       "      <td>20</td>\n",
       "      <td>0.869194</td>\n",
       "      <td>0.009254</td>\n",
       "      <td>26</td>\n",
       "    </tr>\n",
       "    <tr>\n",
       "      <th>27</th>\n",
       "      <td>entropy</td>\n",
       "      <td>2</td>\n",
       "      <td>10</td>\n",
       "      <td>0.869194</td>\n",
       "      <td>0.009254</td>\n",
       "      <td>26</td>\n",
       "    </tr>\n",
       "    <tr>\n",
       "      <th>28</th>\n",
       "      <td>entropy</td>\n",
       "      <td>2</td>\n",
       "      <td>15</td>\n",
       "      <td>0.869194</td>\n",
       "      <td>0.009254</td>\n",
       "      <td>26</td>\n",
       "    </tr>\n",
       "    <tr>\n",
       "      <th>25</th>\n",
       "      <td>entropy</td>\n",
       "      <td>2</td>\n",
       "      <td>1</td>\n",
       "      <td>0.868519</td>\n",
       "      <td>0.008119</td>\n",
       "      <td>30</td>\n",
       "    </tr>\n",
       "    <tr>\n",
       "      <th>26</th>\n",
       "      <td>entropy</td>\n",
       "      <td>2</td>\n",
       "      <td>5</td>\n",
       "      <td>0.868519</td>\n",
       "      <td>0.008119</td>\n",
       "      <td>30</td>\n",
       "    </tr>\n",
       "    <tr>\n",
       "      <th>24</th>\n",
       "      <td>gini</td>\n",
       "      <td>20</td>\n",
       "      <td>20</td>\n",
       "      <td>0.867183</td>\n",
       "      <td>0.024628</td>\n",
       "      <td>32</td>\n",
       "    </tr>\n",
       "    <tr>\n",
       "      <th>19</th>\n",
       "      <td>gini</td>\n",
       "      <td>15</td>\n",
       "      <td>20</td>\n",
       "      <td>0.867183</td>\n",
       "      <td>0.024628</td>\n",
       "      <td>32</td>\n",
       "    </tr>\n",
       "    <tr>\n",
       "      <th>15</th>\n",
       "      <td>gini</td>\n",
       "      <td>15</td>\n",
       "      <td>1</td>\n",
       "      <td>0.865825</td>\n",
       "      <td>0.025019</td>\n",
       "      <td>34</td>\n",
       "    </tr>\n",
       "    <tr>\n",
       "      <th>37</th>\n",
       "      <td>entropy</td>\n",
       "      <td>10</td>\n",
       "      <td>10</td>\n",
       "      <td>0.865818</td>\n",
       "      <td>0.004797</td>\n",
       "      <td>35</td>\n",
       "    </tr>\n",
       "    <tr>\n",
       "      <th>40</th>\n",
       "      <td>entropy</td>\n",
       "      <td>15</td>\n",
       "      <td>1</td>\n",
       "      <td>0.865147</td>\n",
       "      <td>0.018383</td>\n",
       "      <td>36</td>\n",
       "    </tr>\n",
       "    <tr>\n",
       "      <th>45</th>\n",
       "      <td>entropy</td>\n",
       "      <td>20</td>\n",
       "      <td>1</td>\n",
       "      <td>0.865145</td>\n",
       "      <td>0.019361</td>\n",
       "      <td>37</td>\n",
       "    </tr>\n",
       "    <tr>\n",
       "      <th>14</th>\n",
       "      <td>gini</td>\n",
       "      <td>10</td>\n",
       "      <td>20</td>\n",
       "      <td>0.864489</td>\n",
       "      <td>0.024684</td>\n",
       "      <td>38</td>\n",
       "    </tr>\n",
       "    <tr>\n",
       "      <th>38</th>\n",
       "      <td>entropy</td>\n",
       "      <td>10</td>\n",
       "      <td>15</td>\n",
       "      <td>0.864476</td>\n",
       "      <td>0.008976</td>\n",
       "      <td>39</td>\n",
       "    </tr>\n",
       "    <tr>\n",
       "      <th>48</th>\n",
       "      <td>entropy</td>\n",
       "      <td>20</td>\n",
       "      <td>15</td>\n",
       "      <td>0.864476</td>\n",
       "      <td>0.008976</td>\n",
       "      <td>39</td>\n",
       "    </tr>\n",
       "    <tr>\n",
       "      <th>43</th>\n",
       "      <td>entropy</td>\n",
       "      <td>15</td>\n",
       "      <td>15</td>\n",
       "      <td>0.864476</td>\n",
       "      <td>0.008976</td>\n",
       "      <td>39</td>\n",
       "    </tr>\n",
       "    <tr>\n",
       "      <th>39</th>\n",
       "      <td>entropy</td>\n",
       "      <td>10</td>\n",
       "      <td>20</td>\n",
       "      <td>0.861102</td>\n",
       "      <td>0.015335</td>\n",
       "      <td>42</td>\n",
       "    </tr>\n",
       "    <tr>\n",
       "      <th>47</th>\n",
       "      <td>entropy</td>\n",
       "      <td>20</td>\n",
       "      <td>10</td>\n",
       "      <td>0.860429</td>\n",
       "      <td>0.008776</td>\n",
       "      <td>43</td>\n",
       "    </tr>\n",
       "    <tr>\n",
       "      <th>42</th>\n",
       "      <td>entropy</td>\n",
       "      <td>15</td>\n",
       "      <td>10</td>\n",
       "      <td>0.860429</td>\n",
       "      <td>0.008776</td>\n",
       "      <td>43</td>\n",
       "    </tr>\n",
       "    <tr>\n",
       "      <th>20</th>\n",
       "      <td>gini</td>\n",
       "      <td>20</td>\n",
       "      <td>1</td>\n",
       "      <td>0.858418</td>\n",
       "      <td>0.028331</td>\n",
       "      <td>45</td>\n",
       "    </tr>\n",
       "    <tr>\n",
       "      <th>44</th>\n",
       "      <td>entropy</td>\n",
       "      <td>15</td>\n",
       "      <td>20</td>\n",
       "      <td>0.857735</td>\n",
       "      <td>0.015147</td>\n",
       "      <td>46</td>\n",
       "    </tr>\n",
       "    <tr>\n",
       "      <th>49</th>\n",
       "      <td>entropy</td>\n",
       "      <td>20</td>\n",
       "      <td>20</td>\n",
       "      <td>0.857735</td>\n",
       "      <td>0.015147</td>\n",
       "      <td>46</td>\n",
       "    </tr>\n",
       "    <tr>\n",
       "      <th>36</th>\n",
       "      <td>entropy</td>\n",
       "      <td>10</td>\n",
       "      <td>5</td>\n",
       "      <td>0.852346</td>\n",
       "      <td>0.017335</td>\n",
       "      <td>48</td>\n",
       "    </tr>\n",
       "    <tr>\n",
       "      <th>41</th>\n",
       "      <td>entropy</td>\n",
       "      <td>15</td>\n",
       "      <td>5</td>\n",
       "      <td>0.846269</td>\n",
       "      <td>0.018797</td>\n",
       "      <td>49</td>\n",
       "    </tr>\n",
       "    <tr>\n",
       "      <th>46</th>\n",
       "      <td>entropy</td>\n",
       "      <td>20</td>\n",
       "      <td>5</td>\n",
       "      <td>0.846269</td>\n",
       "      <td>0.018797</td>\n",
       "      <td>49</td>\n",
       "    </tr>\n",
       "  </tbody>\n",
       "</table>\n",
       "</div>"
      ],
      "text/plain": [
       "   param_criterion param_max_depth param_min_samples_leaf  mean_test_score  \\\n",
       "32         entropy               5                     10         0.880647   \n",
       "11            gini              10                      5         0.879991   \n",
       "10            gini              10                      1         0.879991   \n",
       "7             gini               5                     10         0.879302   \n",
       "22            gini              20                     10         0.877955   \n",
       "17            gini              15                     10         0.877955   \n",
       "8             gini               5                     15         0.877289   \n",
       "12            gini              10                     10         0.877282   \n",
       "30         entropy               5                      1         0.875935   \n",
       "35         entropy              10                      1         0.875264   \n",
       "5             gini               5                      1         0.874586   \n",
       "13            gini              10                     15         0.873917   \n",
       "6             gini               5                      5         0.873910   \n",
       "33         entropy               5                     15         0.873903   \n",
       "31         entropy               5                      5         0.873239   \n",
       "3             gini               2                     15         0.872563   \n",
       "2             gini               2                     10         0.872563   \n",
       "23            gini              20                     15         0.871897   \n",
       "18            gini              15                     15         0.871897   \n",
       "0             gini               2                      1         0.871888   \n",
       "1             gini               2                      5         0.871888   \n",
       "9             gini               5                     20         0.871223   \n",
       "34         entropy               5                     20         0.870541   \n",
       "16            gini              15                      5         0.869877   \n",
       "21            gini              20                      5         0.869203   \n",
       "29         entropy               2                     20         0.869194   \n",
       "4             gini               2                     20         0.869194   \n",
       "27         entropy               2                     10         0.869194   \n",
       "28         entropy               2                     15         0.869194   \n",
       "25         entropy               2                      1         0.868519   \n",
       "26         entropy               2                      5         0.868519   \n",
       "24            gini              20                     20         0.867183   \n",
       "19            gini              15                     20         0.867183   \n",
       "15            gini              15                      1         0.865825   \n",
       "37         entropy              10                     10         0.865818   \n",
       "40         entropy              15                      1         0.865147   \n",
       "45         entropy              20                      1         0.865145   \n",
       "14            gini              10                     20         0.864489   \n",
       "38         entropy              10                     15         0.864476   \n",
       "48         entropy              20                     15         0.864476   \n",
       "43         entropy              15                     15         0.864476   \n",
       "39         entropy              10                     20         0.861102   \n",
       "47         entropy              20                     10         0.860429   \n",
       "42         entropy              15                     10         0.860429   \n",
       "20            gini              20                      1         0.858418   \n",
       "44         entropy              15                     20         0.857735   \n",
       "49         entropy              20                     20         0.857735   \n",
       "36         entropy              10                      5         0.852346   \n",
       "41         entropy              15                      5         0.846269   \n",
       "46         entropy              20                      5         0.846269   \n",
       "\n",
       "    std_test_score  rank_test_score  \n",
       "32        0.003456                1  \n",
       "11        0.019750                2  \n",
       "10        0.023914                3  \n",
       "7         0.005732                4  \n",
       "22        0.014463                5  \n",
       "17        0.014463                5  \n",
       "8         0.011670                7  \n",
       "12        0.014953                8  \n",
       "30        0.008521                9  \n",
       "35        0.010528               10  \n",
       "5         0.013334               11  \n",
       "13        0.021104               12  \n",
       "6         0.013029               13  \n",
       "33        0.010599               14  \n",
       "31        0.009065               15  \n",
       "3         0.008517               16  \n",
       "2         0.008517               16  \n",
       "23        0.020030               18  \n",
       "18        0.020030               18  \n",
       "0         0.007575               20  \n",
       "1         0.007575               20  \n",
       "9         0.016032               22  \n",
       "34        0.011305               23  \n",
       "16        0.022938               24  \n",
       "21        0.023404               25  \n",
       "29        0.009254               26  \n",
       "4         0.009254               26  \n",
       "27        0.009254               26  \n",
       "28        0.009254               26  \n",
       "25        0.008119               30  \n",
       "26        0.008119               30  \n",
       "24        0.024628               32  \n",
       "19        0.024628               32  \n",
       "15        0.025019               34  \n",
       "37        0.004797               35  \n",
       "40        0.018383               36  \n",
       "45        0.019361               37  \n",
       "14        0.024684               38  \n",
       "38        0.008976               39  \n",
       "48        0.008976               39  \n",
       "43        0.008976               39  \n",
       "39        0.015335               42  \n",
       "47        0.008776               43  \n",
       "42        0.008776               43  \n",
       "20        0.028331               45  \n",
       "44        0.015147               46  \n",
       "49        0.015147               46  \n",
       "36        0.017335               48  \n",
       "41        0.018797               49  \n",
       "46        0.018797               49  "
      ]
     },
     "execution_count": 20,
     "metadata": {},
     "output_type": "execute_result"
    }
   ],
   "source": [
    "param_grid = {\n",
    "    'criterion': ['gini', 'entropy'],\n",
    "    'max_depth': [2,5,10,15,20],\n",
    "    'min_samples_leaf': [1, 5, 10, 15,20],\n",
    "    }\n",
    "\n",
    "cv_dt = GridSearchCV(DecisionTreeClassifier(random_state=100), param_grid, scoring='accuracy', cv=5)\n",
    "cv_dt.fit(X_train, y_train)\n",
    "\n",
    "results = cv_dt.cv_results_\n",
    "df = pd.DataFrame(results)\n",
    "df[['param_criterion', 'param_max_depth', 'param_min_samples_leaf', 'mean_test_score', 'std_test_score', 'rank_test_score']].sort_values('rank_test_score')"
   ]
  },
  {
   "cell_type": "code",
   "execution_count": 21,
   "metadata": {},
   "outputs": [
    {
     "data": {
      "text/plain": [
       "SGDClassifier(alpha=0.001, l1_ratio=0.5, penalty='elasticnet', random_state=100)"
      ]
     },
     "execution_count": 21,
     "metadata": {},
     "output_type": "execute_result"
    }
   ],
   "source": [
    "best_model = cv.best_estimator_\n",
    "best_model"
   ]
  },
  {
   "cell_type": "code",
   "execution_count": 22,
   "metadata": {},
   "outputs": [
    {
     "data": {
      "text/plain": [
       "{'criterion': 'entropy', 'max_depth': 5, 'min_samples_leaf': 10}"
      ]
     },
     "execution_count": 22,
     "metadata": {},
     "output_type": "execute_result"
    }
   ],
   "source": [
    "cv_dt.best_params_\n"
   ]
  },
  {
   "cell_type": "code",
   "execution_count": 23,
   "metadata": {},
   "outputs": [
    {
     "name": "stdout",
     "output_type": "stream",
     "text": [
      "              precision    recall  f1-score   support\n",
      "\n",
      "           0       0.89      1.00      0.94      1232\n",
      "           1       0.94      0.39      0.55       251\n",
      "\n",
      "    accuracy                           0.89      1483\n",
      "   macro avg       0.92      0.69      0.75      1483\n",
      "weighted avg       0.90      0.89      0.87      1483\n",
      "\n"
     ]
    },
    {
     "data": {
      "image/png": "[encoded data removed]",
      "text/plain": [
       "<Figure size 432x288 with 2 Axes>"
      ]
     },
     "metadata": {
      "needs_background": "light"
     },
     "output_type": "display_data"
    }
   ],
   "source": [
    "# Conjunto de train\n",
    "y_pred_train = cv_dt.predict(X_train)\n",
    "sns.heatmap(confusion_matrix(y_train, y_pred_train), annot=True, fmt='g')\n",
    "print(classification_report(y_train, y_pred_train))"
   ]
  },
  {
   "cell_type": "markdown",
   "metadata": {},
   "source": [
    "Conclusión matriz de confusión para resultados de train \n",
    "Target= Vale 0 cuando el cliente pagó el préstamo, y 1 cuando no.\n",
    "* Verdaderos Positivos = El modelo muestra 1226 valores al predecir el pago del préstamo por parte del cliente, cuando en realidad si ocurrio tal evento (Casos verdaderos predichos como verdaderos).\n",
    "* Verdaderos Negativos = El modelo determina 98 valores al predecir la no ocurrencia del pago por parte del préstamo por parte del cliente ,para casos que efectivamente no ocurren(Casos falsos predichos como falsos).\n",
    "* Falsos positivos= El modelo determina 6 valores al predecir que ocurre el pago del prestamo por parte del cliente , cuando en realidad no ocurre el pago.\n",
    "* Falsos Negativos= El modelo muestra 153 valores al predecir que no ocurre el pago del prestamo por parte del cliente cuando en realidad si ocurre."
   ]
  },
  {
   "cell_type": "code",
   "execution_count": 24,
   "metadata": {},
   "outputs": [
    {
     "name": "stdout",
     "output_type": "stream",
     "text": [
      "              precision    recall  f1-score   support\n",
      "\n",
      "           0       0.90      0.99      0.94       313\n",
      "           1       0.86      0.41      0.56        58\n",
      "\n",
      "    accuracy                           0.90       371\n",
      "   macro avg       0.88      0.70      0.75       371\n",
      "weighted avg       0.89      0.90      0.88       371\n",
      "\n"
     ]
    },
    {
     "data": {
      "image/png": "[encoded data removed]",
      "text/plain": [
       "<Figure size 432x288 with 2 Axes>"
      ]
     },
     "metadata": {
      "needs_background": "light"
     },
     "output_type": "display_data"
    }
   ],
   "source": [
    "# Conjunto de test\n",
    "y_pred = cv_dt.predict(X_test)\n",
    "sns.heatmap(confusion_matrix(y_test, y_pred), annot= True, fmt='g')\n",
    "print(classification_report(y_test, y_pred))"
   ]
  },
  {
   "cell_type": "markdown",
   "metadata": {},
   "source": [
    "Conclusión matriz de confusión para resultados de test\n",
    "Target= Vale 0 cuando el cliente pagó el préstamo, y 1 cuando no.\n",
    "* Verdaderos Positivos = El modelo muestra 309 valores al predecir el pago del préstamo por parte del cliente, cuando en realidad si ocurrio tal evento (Casos verdaderos predichos como verdaderos).\n",
    "* Verdaderos Negativos = El modelo determina 24 valores al predecir la no ocurrencia del pago por parte del préstamo por parte del cliente ,para casos que efectivamente no ocurren(Casos falsos predichos como falsos).\n",
    "* Falsos positivos= El modelo determina 4 valores al predecir que ocurre el pago del prestamo por parte del cliente , cuando en realidad no ocurre el pago.\n",
    "* Falsos Negativos= El modelo muestra 34 valores al predecir que no ocurre el pago del prestamo por parte del cliente cuando en realidad si ocurre."
   ]
  },
  {
   "cell_type": "code",
   "execution_count": null,
   "metadata": {},
   "outputs": [],
   "source": []
  },
  {
   "cell_type": "code",
   "execution_count": null,
   "metadata": {},
   "outputs": [],
   "source": []
  }
 ],
 "metadata": {
  "kernelspec": {
   "display_name": "Python 3 (ipykernel)",
   "language": "python",
   "name": "python3"
  },
  "language_info": {
   "codemirror_mode": {
    "name": "ipython",
    "version": 3
   },
   "file_extension": ".py",
   "mimetype": "text/x-python",
   "name": "python",
   "nbconvert_exporter": "python",
   "pygments_lexer": "ipython3",
   "version": "3.9.12"
  }
 },
 "nbformat": 4,
 "nbformat_minor": 4
}
